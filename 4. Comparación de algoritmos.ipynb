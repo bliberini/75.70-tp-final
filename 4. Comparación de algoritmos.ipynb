{
 "cells": [
  {
   "cell_type": "code",
   "execution_count": 10,
   "metadata": {},
   "outputs": [],
   "source": [
    "# Importa librerías\n",
    "import gc\n",
    "import os\n",
    "import logging\n",
    "import datetime\n",
    "import warnings\n",
    "import numpy as np\n",
    "import pandas as pd\n",
    "import seaborn as sns\n",
    "import lightgbm as lgb\n",
    "import matplotlib.pyplot as plt\n",
    "import featuretools as ft\n",
    "from tqdm import tqdm_notebook\n",
    "from sklearn.metrics import mean_squared_error\n",
    "from sklearn.metrics import roc_auc_score, roc_curve\n",
    "from sklearn.metrics import accuracy_score\n",
    "from sklearn.metrics import precision_score\n",
    "from sklearn.metrics import recall_score\n",
    "from sklearn.metrics import f1_score\n",
    "from sklearn.model_selection import StratifiedKFold\n",
    "from sklearn.model_selection import train_test_split\n",
    "from sklearn.metrics import make_scorer\n",
    "from sklearn.preprocessing import LabelEncoder, OneHotEncoder\n",
    "from imblearn.datasets import make_imbalance\n",
    "import lightgbm as lgb\n",
    "import tpot\n",
    "import datetime\n",
    "from utilities import get_prediction_class, get_confussion_matrix, flip_negative_positive_class\n",
    "from sklearn.ensemble import RandomForestClassifier\n",
    "from sklearn.naive_bayes import GaussianNB\n",
    "from sklearn.pipeline import make_pipeline, make_union\n",
    "from sklearn.svm import LinearSVC\n",
    "from sklearn.tree import DecisionTreeClassifier\n",
    "from tpot.builtins import StackingEstimator\n",
    "from sklearn.linear_model import LogisticRegression\n",
    "warnings.filterwarnings('ignore')\n"
   ]
  },
  {
   "cell_type": "markdown",
   "metadata": {},
   "source": [
    "# Algoritmos\n",
    "\n",
    "Se va a trabajar con dos algoritmos que resultaron de la corrida del set de datos utilizando ***TPOT*** con el set de datos *undersampled*, juzgados por esa librería como los dos que mejor valor de validación cruzada lograban:\n",
    "\n",
    "* En primer lugar, con un valor de *cross validation* de 0.920, resultó un modelo de tipo Naïve Bayes Gaussiano. Que un clasificador de tipo naïve Bayes haya sido seleccionado condice con lo encontrado en la etapa de descubrimiento de datos, donde notamos que algunas variables tenían una distribución de probabilidad marcadamente distinta entre las clases.\n",
    "\n",
    "* En segundo lugar utilizaremos el modelo RandomForest que utilizamos durante la etapa de feature engineering. Debido al gran número de variables, muchas de las cuales eran irrelevantes, un algoritmo de tipo árbol de decisión logra eliminar el *overhead* de tener que considerar cada una de ellas en el entrenamiento del modelo (como pasaría en una red neuronal) estudiando la cantidad de información que provee cada una de ellas.\n",
    "\n",
    "Se procede a correr los modelos generados por TPOT con los sets balanceados y el set original a fin de ver cuáles predicen mejor.\n",
    "\n",
    "## Naïve Bayes\n"
   ]
  },
  {
   "cell_type": "code",
   "execution_count": 2,
   "metadata": {},
   "outputs": [
    {
     "name": "stdout",
     "output_type": "stream",
     "text": [
      "<class 'pandas.core.frame.DataFrame'>\n",
      "RangeIndex: 200000 entries, 0 to 199999\n",
      "Columns: 202 entries, ID_code to var_199\n",
      "dtypes: float64(200), int64(1), object(1)\n",
      "memory usage: 308.2+ MB\n"
     ]
    }
   ],
   "source": [
    "train = pd.read_csv('santander-customer-transaction-prediction/train.csv')\n",
    "train_undersampled = pd.read_csv('santander-customer-transaction-prediction/train_undersampled.csv')\n",
    "train_oversampled = pd.read_csv('santander-customer-transaction-prediction/train_oversampled.csv')\n",
    "train.info()"
   ]
  },
  {
   "cell_type": "code",
   "execution_count": 3,
   "metadata": {},
   "outputs": [],
   "source": [
    "prediction_target = train[\"target\"]\n",
    "prediction_data = train.drop([\"target\", \"ID_code\"], axis=1)"
   ]
  },
  {
   "cell_type": "markdown",
   "metadata": {},
   "source": [
    "### Entrenamiento con set oversampled"
   ]
  },
  {
   "cell_type": "code",
   "execution_count": 124,
   "metadata": {},
   "outputs": [],
   "source": [
    "# Split de casos de prueba y test\n",
    "X = train_oversampled.drop([\"ID_code\", \"target\"], axis=1).values\n",
    "Y = train_oversampled.target.values\n",
    "\n",
    "# Split 2/3 entrenamiento, 1/3 validación\n",
    "train_X, test_X, train_Y, test_Y = train_test_split(X, Y, random_state=42)\n",
    "\n",
    "exported_pipeline = GaussianNB()\n",
    "\n",
    "exported_pipeline.fit(train_X, train_Y)\n",
    "results = exported_pipeline.predict(test_X)"
   ]
  },
  {
   "cell_type": "code",
   "execution_count": 125,
   "metadata": {},
   "outputs": [
    {
     "name": "stdout",
     "output_type": "stream",
     "text": [
      "Precision:  0.809948549731515\n",
      "Recall:  0.8025914464456665\n",
      "F1 Score:  0.8062532149486725\n"
     ]
    },
    {
     "data": {
      "text/html": [
       "<div>\n",
       "<style scoped>\n",
       "    .dataframe tbody tr th:only-of-type {\n",
       "        vertical-align: middle;\n",
       "    }\n",
       "\n",
       "    .dataframe tbody tr th {\n",
       "        vertical-align: top;\n",
       "    }\n",
       "\n",
       "    .dataframe thead th {\n",
       "        text-align: right;\n",
       "    }\n",
       "</style>\n",
       "<table border=\"1\" class=\"dataframe\">\n",
       "  <thead>\n",
       "    <tr style=\"text-align: right;\">\n",
       "      <th></th>\n",
       "      <th>target_0</th>\n",
       "      <th>target_1</th>\n",
       "    </tr>\n",
       "  </thead>\n",
       "  <tbody>\n",
       "    <tr>\n",
       "      <th>target_0</th>\n",
       "      <td>36575</td>\n",
       "      <td>8867</td>\n",
       "    </tr>\n",
       "    <tr>\n",
       "      <th>target_1</th>\n",
       "      <td>8459</td>\n",
       "      <td>36050</td>\n",
       "    </tr>\n",
       "  </tbody>\n",
       "</table>\n",
       "</div>"
      ],
      "text/plain": [
       "          target_0  target_1\n",
       "target_0     36575      8867\n",
       "target_1      8459     36050"
      ]
     },
     "execution_count": 125,
     "metadata": {},
     "output_type": "execute_result"
    }
   ],
   "source": [
    "print(\"Precision: \", precision_score(test_Y, results))\n",
    "print(\"Recall: \", recall_score(test_Y, results))\n",
    "print(\"F1 Score: \", f1_score(test_Y, results))\n",
    "get_confussion_matrix(test_Y, results)"
   ]
  },
  {
   "cell_type": "markdown",
   "metadata": {},
   "source": [
    "#### Resultados con set original"
   ]
  },
  {
   "cell_type": "code",
   "execution_count": 126,
   "metadata": {},
   "outputs": [
    {
     "name": "stdout",
     "output_type": "stream",
     "text": [
      "Precision:  0.32444265916850773\n",
      "Recall:  0.8037615683152552\n",
      "F1 Score:  0.4622825091575092\n"
     ]
    },
    {
     "data": {
      "text/html": [
       "<div>\n",
       "<style scoped>\n",
       "    .dataframe tbody tr th:only-of-type {\n",
       "        vertical-align: middle;\n",
       "    }\n",
       "\n",
       "    .dataframe tbody tr th {\n",
       "        vertical-align: top;\n",
       "    }\n",
       "\n",
       "    .dataframe thead th {\n",
       "        text-align: right;\n",
       "    }\n",
       "</style>\n",
       "<table border=\"1\" class=\"dataframe\">\n",
       "  <thead>\n",
       "    <tr style=\"text-align: right;\">\n",
       "      <th></th>\n",
       "      <th>target_0</th>\n",
       "      <th>target_1</th>\n",
       "    </tr>\n",
       "  </thead>\n",
       "  <tbody>\n",
       "    <tr>\n",
       "      <th>target_0</th>\n",
       "      <td>146266</td>\n",
       "      <td>3944</td>\n",
       "    </tr>\n",
       "    <tr>\n",
       "      <th>target_1</th>\n",
       "      <td>33636</td>\n",
       "      <td>16154</td>\n",
       "    </tr>\n",
       "  </tbody>\n",
       "</table>\n",
       "</div>"
      ],
      "text/plain": [
       "          target_0  target_1\n",
       "target_0    146266      3944\n",
       "target_1     33636     16154"
      ]
     },
     "execution_count": 126,
     "metadata": {},
     "output_type": "execute_result"
    }
   ],
   "source": [
    "results = exported_pipeline.predict(prediction_data)\n",
    "print(\"Precision: \", precision_score(prediction_target, results))\n",
    "print(\"Recall: \", recall_score(prediction_target, results))\n",
    "print(\"F1 Score: \", f1_score(prediction_target, results))\n",
    "get_confussion_matrix(prediction_target, results)"
   ]
  },
  {
   "cell_type": "markdown",
   "metadata": {},
   "source": [
    "### Entrenamiento con set undersampled"
   ]
  },
  {
   "cell_type": "code",
   "execution_count": 127,
   "metadata": {},
   "outputs": [],
   "source": [
    "# Split de casos de prueba y test\n",
    "X = train_undersampled.drop([\"ID_code\", \"target\"], axis=1).values\n",
    "Y = train_undersampled.target.values\n",
    "\n",
    "# Split 2/3 entrenamiento, 1/3 validación\n",
    "train_X, test_X, train_Y, test_Y = train_test_split(X, Y, random_state=42)\n",
    "\n",
    "exported_pipeline = GaussianNB()\n",
    "\n",
    "exported_pipeline.fit(train_X, train_Y)\n",
    "results = exported_pipeline.predict(test_X)"
   ]
  },
  {
   "cell_type": "code",
   "execution_count": 128,
   "metadata": {},
   "outputs": [
    {
     "name": "stdout",
     "output_type": "stream",
     "text": [
      "Precision:  0.8081313839375125\n",
      "Recall:  0.798535523451415\n",
      "F1 Score:  0.8033047979295241\n"
     ]
    },
    {
     "data": {
      "text/html": [
       "<div>\n",
       "<style scoped>\n",
       "    .dataframe tbody tr th:only-of-type {\n",
       "        vertical-align: middle;\n",
       "    }\n",
       "\n",
       "    .dataframe tbody tr th {\n",
       "        vertical-align: top;\n",
       "    }\n",
       "\n",
       "    .dataframe thead th {\n",
       "        text-align: right;\n",
       "    }\n",
       "</style>\n",
       "<table border=\"1\" class=\"dataframe\">\n",
       "  <thead>\n",
       "    <tr style=\"text-align: right;\">\n",
       "      <th></th>\n",
       "      <th>target_0</th>\n",
       "      <th>target_1</th>\n",
       "    </tr>\n",
       "  </thead>\n",
       "  <tbody>\n",
       "    <tr>\n",
       "      <th>target_0</th>\n",
       "      <td>4038</td>\n",
       "      <td>1018</td>\n",
       "    </tr>\n",
       "    <tr>\n",
       "      <th>target_1</th>\n",
       "      <td>958</td>\n",
       "      <td>4035</td>\n",
       "    </tr>\n",
       "  </tbody>\n",
       "</table>\n",
       "</div>"
      ],
      "text/plain": [
       "          target_0  target_1\n",
       "target_0      4038      1018\n",
       "target_1       958      4035"
      ]
     },
     "execution_count": 128,
     "metadata": {},
     "output_type": "execute_result"
    }
   ],
   "source": [
    "print(\"Precision: \", precision_score(test_Y, results))\n",
    "print(\"Recall: \", recall_score(test_Y, results))\n",
    "print(\"F1 Score: \", f1_score(test_Y, results))\n",
    "get_confussion_matrix(test_Y, results)"
   ]
  },
  {
   "cell_type": "markdown",
   "metadata": {},
   "source": [
    "#### Resultados con set original"
   ]
  },
  {
   "cell_type": "code",
   "execution_count": 129,
   "metadata": {},
   "outputs": [
    {
     "name": "stdout",
     "output_type": "stream",
     "text": [
      "Precision:  0.323768599024116\n",
      "Recall:  0.8022688824758683\n",
      "F1 Score:  0.4613513784174308\n"
     ]
    },
    {
     "data": {
      "text/html": [
       "<div>\n",
       "<style scoped>\n",
       "    .dataframe tbody tr th:only-of-type {\n",
       "        vertical-align: middle;\n",
       "    }\n",
       "\n",
       "    .dataframe tbody tr th {\n",
       "        vertical-align: top;\n",
       "    }\n",
       "\n",
       "    .dataframe thead th {\n",
       "        text-align: right;\n",
       "    }\n",
       "</style>\n",
       "<table border=\"1\" class=\"dataframe\">\n",
       "  <thead>\n",
       "    <tr style=\"text-align: right;\">\n",
       "      <th></th>\n",
       "      <th>target_0</th>\n",
       "      <th>target_1</th>\n",
       "    </tr>\n",
       "  </thead>\n",
       "  <tbody>\n",
       "    <tr>\n",
       "      <th>target_0</th>\n",
       "      <td>146225</td>\n",
       "      <td>3974</td>\n",
       "    </tr>\n",
       "    <tr>\n",
       "      <th>target_1</th>\n",
       "      <td>33677</td>\n",
       "      <td>16124</td>\n",
       "    </tr>\n",
       "  </tbody>\n",
       "</table>\n",
       "</div>"
      ],
      "text/plain": [
       "          target_0  target_1\n",
       "target_0    146225      3974\n",
       "target_1     33677     16124"
      ]
     },
     "execution_count": 129,
     "metadata": {},
     "output_type": "execute_result"
    }
   ],
   "source": [
    "results = exported_pipeline.predict(prediction_data)\n",
    "print(\"Precision: \", precision_score(prediction_target, results))\n",
    "print(\"Recall: \", recall_score(prediction_target, results))\n",
    "print(\"F1 Score: \", f1_score(prediction_target, results))\n",
    "get_confussion_matrix(prediction_target, results)"
   ]
  },
  {
   "cell_type": "markdown",
   "metadata": {},
   "source": [
    "### Entrenamiento con set original"
   ]
  },
  {
   "cell_type": "code",
   "execution_count": 154,
   "metadata": {},
   "outputs": [],
   "source": [
    "# Split de casos de prueba y test\n",
    "X = train.drop([\"ID_code\", \"target\"], axis=1).values\n",
    "Y = train.target.values\n",
    "\n",
    "# Split 2/3 entrenamiento, 1/3 validación\n",
    "train_X, test_X, train_Y, test_Y = train_test_split(X, Y, random_state=42)\n",
    "\n",
    "exported_pipeline = GaussianNB()\n",
    "\n",
    "exported_pipeline.fit(train_X, train_Y)\n",
    "results = exported_pipeline.predict(test_X)"
   ]
  },
  {
   "cell_type": "code",
   "execution_count": 122,
   "metadata": {},
   "outputs": [
    {
     "name": "stdout",
     "output_type": "stream",
     "text": [
      "Precision:  0.7168445121951219\n",
      "Recall:  0.3673828125\n",
      "F1 Score:  0.4857954545454545\n"
     ]
    },
    {
     "data": {
      "text/html": [
       "<div>\n",
       "<style scoped>\n",
       "    .dataframe tbody tr th:only-of-type {\n",
       "        vertical-align: middle;\n",
       "    }\n",
       "\n",
       "    .dataframe tbody tr th {\n",
       "        vertical-align: top;\n",
       "    }\n",
       "\n",
       "    .dataframe thead th {\n",
       "        text-align: right;\n",
       "    }\n",
       "</style>\n",
       "<table border=\"1\" class=\"dataframe\">\n",
       "  <thead>\n",
       "    <tr style=\"text-align: right;\">\n",
       "      <th></th>\n",
       "      <th>target_0</th>\n",
       "      <th>target_1</th>\n",
       "    </tr>\n",
       "  </thead>\n",
       "  <tbody>\n",
       "    <tr>\n",
       "      <th>target_0</th>\n",
       "      <td>44137</td>\n",
       "      <td>3239</td>\n",
       "    </tr>\n",
       "    <tr>\n",
       "      <th>target_1</th>\n",
       "      <td>743</td>\n",
       "      <td>1881</td>\n",
       "    </tr>\n",
       "  </tbody>\n",
       "</table>\n",
       "</div>"
      ],
      "text/plain": [
       "          target_0  target_1\n",
       "target_0     44137      3239\n",
       "target_1       743      1881"
      ]
     },
     "execution_count": 122,
     "metadata": {},
     "output_type": "execute_result"
    }
   ],
   "source": [
    "print(\"Precision: \", precision_score(test_Y, results))\n",
    "print(\"Recall: \", recall_score(test_Y, results))\n",
    "print(\"F1 Score: \", f1_score(test_Y, results))\n",
    "get_confussion_matrix(test_Y, results)"
   ]
  },
  {
   "cell_type": "markdown",
   "metadata": {},
   "source": [
    "## RandomForest"
   ]
  },
  {
   "cell_type": "markdown",
   "metadata": {},
   "source": [
    "### Entrenamiento con set oversampled"
   ]
  },
  {
   "cell_type": "code",
   "execution_count": 145,
   "metadata": {},
   "outputs": [],
   "source": [
    "features = train_oversampled.drop(['target', 'ID_code'], axis=1).values\n",
    "training_features, testing_features, training_target, testing_target = \\\n",
    "            train_test_split(features, train_oversampled['target'].values, random_state=42)\n",
    "\n",
    "forest = RandomForestClassifier(max_depth=15, n_estimators=15, min_samples_leaf=25,\n",
    "                                n_jobs=-1)\n",
    "\n",
    "forest.fit(training_features, training_target)\n",
    "results = forest.predict(testing_features)"
   ]
  },
  {
   "cell_type": "code",
   "execution_count": 146,
   "metadata": {},
   "outputs": [
    {
     "name": "stdout",
     "output_type": "stream",
     "text": [
      "Precision:  0.8809404583065074\n",
      "Recall:  0.8224948237860944\n",
      "F1 Score:  0.8507149929767196\n"
     ]
    },
    {
     "data": {
      "text/html": [
       "<div>\n",
       "<style scoped>\n",
       "    .dataframe tbody tr th:only-of-type {\n",
       "        vertical-align: middle;\n",
       "    }\n",
       "\n",
       "    .dataframe tbody tr th {\n",
       "        vertical-align: top;\n",
       "    }\n",
       "\n",
       "    .dataframe thead th {\n",
       "        text-align: right;\n",
       "    }\n",
       "</style>\n",
       "<table border=\"1\" class=\"dataframe\">\n",
       "  <thead>\n",
       "    <tr style=\"text-align: right;\">\n",
       "      <th></th>\n",
       "      <th>target_0</th>\n",
       "      <th>target_1</th>\n",
       "    </tr>\n",
       "  </thead>\n",
       "  <tbody>\n",
       "    <tr>\n",
       "      <th>target_0</th>\n",
       "      <td>40041</td>\n",
       "      <td>7973</td>\n",
       "    </tr>\n",
       "    <tr>\n",
       "      <th>target_1</th>\n",
       "      <td>4993</td>\n",
       "      <td>36944</td>\n",
       "    </tr>\n",
       "  </tbody>\n",
       "</table>\n",
       "</div>"
      ],
      "text/plain": [
       "          target_0  target_1\n",
       "target_0     40041      7973\n",
       "target_1      4993     36944"
      ]
     },
     "execution_count": 146,
     "metadata": {},
     "output_type": "execute_result"
    }
   ],
   "source": [
    "print(\"Precision: \", precision_score(testing_target, results))\n",
    "print(\"Recall: \", recall_score(testing_target, results))\n",
    "print(\"F1 Score: \", f1_score(testing_target, results))\n",
    "get_confussion_matrix(testing_target, results)"
   ]
  },
  {
   "cell_type": "markdown",
   "metadata": {},
   "source": [
    "#### Resultados con el set original"
   ]
  },
  {
   "cell_type": "code",
   "execution_count": 147,
   "metadata": {},
   "outputs": [
    {
     "name": "stdout",
     "output_type": "stream",
     "text": [
      "Precision:  0.5708136772149719\n",
      "Recall:  0.824808438650612\n",
      "F1 Score:  0.6746983048088077\n"
     ]
    },
    {
     "data": {
      "text/html": [
       "<div>\n",
       "<style scoped>\n",
       "    .dataframe tbody tr th:only-of-type {\n",
       "        vertical-align: middle;\n",
       "    }\n",
       "\n",
       "    .dataframe tbody tr th {\n",
       "        vertical-align: top;\n",
       "    }\n",
       "\n",
       "    .dataframe thead th {\n",
       "        text-align: right;\n",
       "    }\n",
       "</style>\n",
       "<table border=\"1\" class=\"dataframe\">\n",
       "  <thead>\n",
       "    <tr style=\"text-align: right;\">\n",
       "      <th></th>\n",
       "      <th>target_0</th>\n",
       "      <th>target_1</th>\n",
       "    </tr>\n",
       "  </thead>\n",
       "  <tbody>\n",
       "    <tr>\n",
       "      <th>target_0</th>\n",
       "      <td>167438</td>\n",
       "      <td>3521</td>\n",
       "    </tr>\n",
       "    <tr>\n",
       "      <th>target_1</th>\n",
       "      <td>12464</td>\n",
       "      <td>16577</td>\n",
       "    </tr>\n",
       "  </tbody>\n",
       "</table>\n",
       "</div>"
      ],
      "text/plain": [
       "          target_0  target_1\n",
       "target_0    167438      3521\n",
       "target_1     12464     16577"
      ]
     },
     "execution_count": 147,
     "metadata": {},
     "output_type": "execute_result"
    }
   ],
   "source": [
    "results = forest.predict(prediction_data)\n",
    "print(\"Precision: \", precision_score(prediction_target, results))\n",
    "print(\"Recall: \", recall_score(prediction_target, results))\n",
    "print(\"F1 Score: \", f1_score(prediction_target, results))\n",
    "get_confussion_matrix(prediction_target, results)"
   ]
  },
  {
   "cell_type": "markdown",
   "metadata": {},
   "source": [
    "### Entrenamiento con el set undersampled"
   ]
  },
  {
   "cell_type": "code",
   "execution_count": 160,
   "metadata": {},
   "outputs": [],
   "source": [
    "features = train_undersampled.drop(['target', 'ID_code'], axis=1).values\n",
    "training_features, testing_features, training_target, testing_target = \\\n",
    "            train_test_split(features, train_undersampled['target'].values, random_state=42)\n",
    "\n",
    "forest = RandomForestClassifier(max_depth=15, n_estimators=15, min_samples_leaf=25,\n",
    "                                n_jobs=-1)\n",
    "\n",
    "forest.fit(training_features, training_target)\n",
    "results = forest.predict(testing_features)"
   ]
  },
  {
   "cell_type": "code",
   "execution_count": 161,
   "metadata": {},
   "outputs": [
    {
     "name": "stdout",
     "output_type": "stream",
     "text": [
      "Precision:  0.7139971722884266\n",
      "Recall:  0.69958440530378\n",
      "F1 Score:  0.70671731307477\n"
     ]
    },
    {
     "data": {
      "text/html": [
       "<div>\n",
       "<style scoped>\n",
       "    .dataframe tbody tr th:only-of-type {\n",
       "        vertical-align: middle;\n",
       "    }\n",
       "\n",
       "    .dataframe tbody tr th {\n",
       "        vertical-align: top;\n",
       "    }\n",
       "\n",
       "    .dataframe thead th {\n",
       "        text-align: right;\n",
       "    }\n",
       "</style>\n",
       "<table border=\"1\" class=\"dataframe\">\n",
       "  <thead>\n",
       "    <tr style=\"text-align: right;\">\n",
       "      <th></th>\n",
       "      <th>target_0</th>\n",
       "      <th>target_1</th>\n",
       "    </tr>\n",
       "  </thead>\n",
       "  <tbody>\n",
       "    <tr>\n",
       "      <th>target_0</th>\n",
       "      <td>3580</td>\n",
       "      <td>1518</td>\n",
       "    </tr>\n",
       "    <tr>\n",
       "      <th>target_1</th>\n",
       "      <td>1416</td>\n",
       "      <td>3535</td>\n",
       "    </tr>\n",
       "  </tbody>\n",
       "</table>\n",
       "</div>"
      ],
      "text/plain": [
       "          target_0  target_1\n",
       "target_0      3580      1518\n",
       "target_1      1416      3535"
      ]
     },
     "execution_count": 161,
     "metadata": {},
     "output_type": "execute_result"
    }
   ],
   "source": [
    "print(\"Precision: \", precision_score(testing_target, results))\n",
    "print(\"Recall: \", recall_score(testing_target, results))\n",
    "print(\"F1 Score: \", f1_score(testing_target, results))\n",
    "get_confussion_matrix(testing_target, results)"
   ]
  },
  {
   "cell_type": "markdown",
   "metadata": {},
   "source": [
    "#### Resultados con el set original"
   ]
  },
  {
   "cell_type": "code",
   "execution_count": 162,
   "metadata": {},
   "outputs": [
    {
     "name": "stdout",
     "output_type": "stream",
     "text": [
      "Precision:  0.2511822939655716\n",
      "Recall:  0.7928152054930839\n",
      "F1 Score:  0.3814973543706754\n"
     ]
    },
    {
     "data": {
      "text/html": [
       "<div>\n",
       "<style scoped>\n",
       "    .dataframe tbody tr th:only-of-type {\n",
       "        vertical-align: middle;\n",
       "    }\n",
       "\n",
       "    .dataframe tbody tr th {\n",
       "        vertical-align: top;\n",
       "    }\n",
       "\n",
       "    .dataframe thead th {\n",
       "        text-align: right;\n",
       "    }\n",
       "</style>\n",
       "<table border=\"1\" class=\"dataframe\">\n",
       "  <thead>\n",
       "    <tr style=\"text-align: right;\">\n",
       "      <th></th>\n",
       "      <th>target_0</th>\n",
       "      <th>target_1</th>\n",
       "    </tr>\n",
       "  </thead>\n",
       "  <tbody>\n",
       "    <tr>\n",
       "      <th>target_0</th>\n",
       "      <td>132400</td>\n",
       "      <td>4164</td>\n",
       "    </tr>\n",
       "    <tr>\n",
       "      <th>target_1</th>\n",
       "      <td>47502</td>\n",
       "      <td>15934</td>\n",
       "    </tr>\n",
       "  </tbody>\n",
       "</table>\n",
       "</div>"
      ],
      "text/plain": [
       "          target_0  target_1\n",
       "target_0    132400      4164\n",
       "target_1     47502     15934"
      ]
     },
     "execution_count": 162,
     "metadata": {},
     "output_type": "execute_result"
    }
   ],
   "source": [
    "results = forest.predict(prediction_data)\n",
    "print(\"Precision: \", precision_score(prediction_target, results))\n",
    "print(\"Recall: \", recall_score(prediction_target, results))\n",
    "print(\"F1 Score: \", f1_score(prediction_target, results))\n",
    "get_confussion_matrix(prediction_target, results)"
   ]
  },
  {
   "cell_type": "markdown",
   "metadata": {},
   "source": [
    "### Entrenamiento con set de datos original"
   ]
  },
  {
   "cell_type": "code",
   "execution_count": 13,
   "metadata": {},
   "outputs": [],
   "source": [
    "features = train.drop(['target', 'ID_code'], axis=1).values\n",
    "training_features, testing_features, training_target, testing_target = \\\n",
    "            train_test_split(features, train['target'].values, random_state=42)\n",
    "\n",
    "forest = RandomForestClassifier(max_depth=15, n_estimators=15, min_samples_leaf=25,\n",
    "                                n_jobs=-1)\n",
    "\n",
    "forest.fit(training_features, training_target)\n",
    "results = forest.predict(testing_features)"
   ]
  },
  {
   "cell_type": "code",
   "execution_count": 15,
   "metadata": {},
   "outputs": [
    {
     "name": "stdout",
     "output_type": "stream",
     "text": [
      "Precision:  0.0\n",
      "Recall:  0.0\n",
      "F1 Score:  0.0\n"
     ]
    },
    {
     "data": {
      "text/html": [
       "<div>\n",
       "<style scoped>\n",
       "    .dataframe tbody tr th:only-of-type {\n",
       "        vertical-align: middle;\n",
       "    }\n",
       "\n",
       "    .dataframe tbody tr th {\n",
       "        vertical-align: top;\n",
       "    }\n",
       "\n",
       "    .dataframe thead th {\n",
       "        text-align: right;\n",
       "    }\n",
       "</style>\n",
       "<table border=\"1\" class=\"dataframe\">\n",
       "  <thead>\n",
       "    <tr style=\"text-align: right;\">\n",
       "      <th></th>\n",
       "      <th>target_0</th>\n",
       "      <th>target_1</th>\n",
       "    </tr>\n",
       "  </thead>\n",
       "  <tbody>\n",
       "    <tr>\n",
       "      <th>target_0</th>\n",
       "      <td>44880</td>\n",
       "      <td>5120</td>\n",
       "    </tr>\n",
       "    <tr>\n",
       "      <th>target_1</th>\n",
       "      <td>0</td>\n",
       "      <td>0</td>\n",
       "    </tr>\n",
       "  </tbody>\n",
       "</table>\n",
       "</div>"
      ],
      "text/plain": [
       "          target_0  target_1\n",
       "target_0     44880      5120\n",
       "target_1         0         0"
      ]
     },
     "execution_count": 15,
     "metadata": {},
     "output_type": "execute_result"
    }
   ],
   "source": [
    "# Se dan vuelta los valores de las clases porque sklearn devuelve automáticamente 0 en todas sus métricas si no \n",
    "# hay positivos (en nuestro caso, \"1\")\n",
    "\n",
    "print(\"Precision: \", precision_score(testing_target, results))\n",
    "print(\"Recall: \", recall_score(testing_target, results))\n",
    "print(\"F1 Score: \", f1_score(testing_target, results))\n",
    "get_confussion_matrix(testing_target, results)"
   ]
  },
  {
   "cell_type": "code",
   "execution_count": 16,
   "metadata": {},
   "outputs": [
    {
     "name": "stdout",
     "output_type": "stream",
     "text": [
      "Precision:  1.0\n",
      "Recall:  0.0003980495571698676\n",
      "F1 Score:  0.0007957823535263105\n"
     ]
    },
    {
     "data": {
      "text/html": [
       "<div>\n",
       "<style scoped>\n",
       "    .dataframe tbody tr th:only-of-type {\n",
       "        vertical-align: middle;\n",
       "    }\n",
       "\n",
       "    .dataframe tbody tr th {\n",
       "        vertical-align: top;\n",
       "    }\n",
       "\n",
       "    .dataframe thead th {\n",
       "        text-align: right;\n",
       "    }\n",
       "</style>\n",
       "<table border=\"1\" class=\"dataframe\">\n",
       "  <thead>\n",
       "    <tr style=\"text-align: right;\">\n",
       "      <th></th>\n",
       "      <th>target_0</th>\n",
       "      <th>target_1</th>\n",
       "    </tr>\n",
       "  </thead>\n",
       "  <tbody>\n",
       "    <tr>\n",
       "      <th>target_0</th>\n",
       "      <td>179902</td>\n",
       "      <td>20090</td>\n",
       "    </tr>\n",
       "    <tr>\n",
       "      <th>target_1</th>\n",
       "      <td>0</td>\n",
       "      <td>8</td>\n",
       "    </tr>\n",
       "  </tbody>\n",
       "</table>\n",
       "</div>"
      ],
      "text/plain": [
       "          target_0  target_1\n",
       "target_0    179902     20090\n",
       "target_1         0         8"
      ]
     },
     "execution_count": 16,
     "metadata": {},
     "output_type": "execute_result"
    }
   ],
   "source": [
    "results = forest.predict(prediction_data)\n",
    "print(\"Precision: \", precision_score(prediction_target, results))\n",
    "print(\"Recall: \", recall_score(prediction_target, results))\n",
    "print(\"F1 Score: \", f1_score(prediction_target, results))\n",
    "get_confussion_matrix(prediction_target, results)"
   ]
  },
  {
   "cell_type": "markdown",
   "metadata": {},
   "source": [
    "# Conclusión\n",
    "\n",
    "Podemos ver que aunque TPOT haya elegido Naïve Bayes como el mejor modelo, el que mayor precisión y recall resultó fue RandomForest entrenado con el set oversampled, que presentó una precisión de 0.57 y un recall de 0.82."
   ]
  }
 ],
 "metadata": {
  "kernelspec": {
   "display_name": "Python 3",
   "language": "python",
   "name": "python3"
  },
  "language_info": {
   "codemirror_mode": {
    "name": "ipython",
    "version": 3
   },
   "file_extension": ".py",
   "mimetype": "text/x-python",
   "name": "python",
   "nbconvert_exporter": "python",
   "pygments_lexer": "ipython3",
   "version": "3.7.1"
  }
 },
 "nbformat": 4,
 "nbformat_minor": 2
}
